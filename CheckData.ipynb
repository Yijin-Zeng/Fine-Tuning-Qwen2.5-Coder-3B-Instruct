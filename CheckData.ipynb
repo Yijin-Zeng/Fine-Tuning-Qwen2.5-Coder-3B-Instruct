{
 "cells": [
  {
   "cell_type": "markdown",
   "id": "eb28e796",
   "metadata": {},
   "source": [
    "# Sanity check for the training and testing data"
   ]
  },
  {
   "cell_type": "code",
   "execution_count": 17,
   "id": "37a63f68",
   "metadata": {},
   "outputs": [
    {
     "name": "stdout",
     "output_type": "stream",
     "text": [
      "Train path: E:\\FineTuning\\data\\train.jsonl\n",
      "Val path  : E:\\FineTuning\\data\\val.jsonl\n",
      "Loaded: 2379 train rows, 500 val rows\n"
     ]
    },
    {
     "data": {
      "text/html": [
       "<div>\n",
       "<style scoped>\n",
       "    .dataframe tbody tr th:only-of-type {\n",
       "        vertical-align: middle;\n",
       "    }\n",
       "\n",
       "    .dataframe tbody tr th {\n",
       "        vertical-align: top;\n",
       "    }\n",
       "\n",
       "    .dataframe thead th {\n",
       "        text-align: right;\n",
       "    }\n",
       "</style>\n",
       "<table border=\"1\" class=\"dataframe\">\n",
       "  <thead>\n",
       "    <tr style=\"text-align: right;\">\n",
       "      <th></th>\n",
       "      <th>instruction</th>\n",
       "      <th>input</th>\n",
       "      <th>output</th>\n",
       "    </tr>\n",
       "  </thead>\n",
       "  <tbody>\n",
       "    <tr>\n",
       "      <th>0</th>\n",
       "      <td>You are an intelligent Python coding assistant...</td>\n",
       "      <td>You are given a Python function signature and ...</td>\n",
       "      <td>sum(d * 10 ** i for i, d in enumerate(x[::-1]))</td>\n",
       "    </tr>\n",
       "    <tr>\n",
       "      <th>1</th>\n",
       "      <td>You are an intelligent Python coding assistant...</td>\n",
       "      <td>You are given a Python function signature and ...</td>\n",
       "      <td>r = int(''.join(map(str, x)))</td>\n",
       "    </tr>\n",
       "    <tr>\n",
       "      <th>2</th>\n",
       "      <td>You are an intelligent Python coding assistant...</td>\n",
       "      <td>You are given a Python function signature and ...</td>\n",
       "      <td>datetime.strptime('2010-11-13 10:33:54.227806'...</td>\n",
       "    </tr>\n",
       "  </tbody>\n",
       "</table>\n",
       "</div>"
      ],
      "text/plain": [
       "                                         instruction  \\\n",
       "0  You are an intelligent Python coding assistant...   \n",
       "1  You are an intelligent Python coding assistant...   \n",
       "2  You are an intelligent Python coding assistant...   \n",
       "\n",
       "                                               input  \\\n",
       "0  You are given a Python function signature and ...   \n",
       "1  You are given a Python function signature and ...   \n",
       "2  You are given a Python function signature and ...   \n",
       "\n",
       "                                              output  \n",
       "0    sum(d * 10 ** i for i, d in enumerate(x[::-1]))  \n",
       "1                      r = int(''.join(map(str, x)))  \n",
       "2  datetime.strptime('2010-11-13 10:33:54.227806'...  "
      ]
     },
     "execution_count": 17,
     "metadata": {},
     "output_type": "execute_result"
    }
   ],
   "source": [
    "import os, random, json\n",
    "import pandas as pd\n",
    "import matplotlib.pyplot as plt\n",
    "\n",
    "DATA_DIR = r\"E:\\FineTuning\\data\"  # <-- change if needed\n",
    "TRAIN_PATH = os.path.join(DATA_DIR, \"train.jsonl\")\n",
    "VAL_PATH   = os.path.join(DATA_DIR, \"val.jsonl\")\n",
    "\n",
    "print(\"Train path:\", TRAIN_PATH)\n",
    "print(\"Val path  :\", VAL_PATH)\n",
    "\n",
    "# Read JSONL files\n",
    "train_df = pd.read_json(TRAIN_PATH, lines=True)\n",
    "val_df   = pd.read_json(VAL_PATH, lines=True)\n",
    "\n",
    "print(f\"Loaded: {len(train_df)} train rows, {len(val_df)} val rows\")\n",
    "train_df.head(3)"
   ]
  },
  {
   "cell_type": "code",
   "execution_count": 18,
   "id": "ed453891",
   "metadata": {},
   "outputs": [
    {
     "data": {
      "text/plain": [
       "'You are given a Python function signature and docstring.\\nWrite the COMPLETE function, starting with the `def ...:` line.\\nReturn ONLY the code (no comments, no backticks, no extra text).\\nFunction to implement:\\nHow to convert a list of multiple integers into a single integer?\\n'"
      ]
     },
     "execution_count": 18,
     "metadata": {},
     "output_type": "execute_result"
    }
   ],
   "source": [
    "train_df.iloc[1]['input']"
   ]
  },
  {
   "cell_type": "markdown",
   "id": "424f6c64",
   "metadata": {},
   "source": [
    "## Random samples"
   ]
  },
  {
   "cell_type": "code",
   "execution_count": 5,
   "id": "81d126e0",
   "metadata": {},
   "outputs": [
    {
     "name": "stdout",
     "output_type": "stream",
     "text": [
      "\n",
      "=== Sample 1 (row 6863) ===\n",
      "Instruction:\n",
      " You are an expert in Python. Please write clean and readable Python code that satisfies the intent.\n",
      "\n",
      "Input (NL):\n",
      " Reorganize a CSV so Dates are not column Headers\n",
      "\n",
      "Output (Python):\n",
      "\n",
      "lines = [line.split(',') for line in content.split('\\n')]\n",
      "============================================================\n",
      "\n",
      "=== Sample 2 (row 35084) ===\n",
      "Instruction:\n",
      " You are an expert in Python. Please write clean and readable Python code that satisfies the intent.\n",
      "\n",
      "Input (NL):\n",
      " How to convert signed to unsigned integer in python\n",
      "\n",
      "Output (Python):\n",
      "\n",
      "-1\n",
      "_ + 2 ** 32\n",
      "bin(_)\n",
      "============================================================\n",
      "\n",
      "=== Sample 3 (row 11427) ===\n",
      "Instruction:\n",
      " You are an expert in Python. Please write clean and readable Python code that satisfies the intent.\n",
      "\n",
      "Input (NL):\n",
      " Login to website using python\n",
      "\n",
      "Output (Python):\n",
      "\n",
      "r = session.post(URL, data=login_data)\n",
      "r = session.get('http://friends.cisv.org/index.cfm?fuseaction=user.fullprofile'\n",
      "    )\n",
      "if __name__ == '__main__':\n",
      "    main()\n",
      "============================================================\n"
     ]
    }
   ],
   "source": [
    "def show_samples(df, n=3, seed=42):\n",
    "    random.seed(seed)\n",
    "    idxs = random.sample(range(len(df)), k=min(n, len(df)))\n",
    "    for i, idx in enumerate(idxs, 1):\n",
    "        row = df.iloc[idx]\n",
    "        print(f\"\\n=== Sample {i} (row {idx}) ===\")\n",
    "        print(\"Instruction:\\n\", row.get(\"instruction\",\"\").strip())\n",
    "        print(\"\\nInput (NL):\\n\", row.get(\"input\",\"\").strip())\n",
    "        print(\"\\nOutput (Python):\\n\")\n",
    "        print(row.get(\"output\",\"\").strip())\n",
    "        print(\"=\"*60)\n",
    "\n",
    "show_samples(train_df, n=3, seed=123)"
   ]
  },
  {
   "cell_type": "markdown",
   "id": "7e41b9e8",
   "metadata": {},
   "source": [
    "## Basic validation checks"
   ]
  },
  {
   "cell_type": "code",
   "execution_count": 6,
   "id": "2bf256d1",
   "metadata": {},
   "outputs": [
    {
     "name": "stdout",
     "output_type": "stream",
     "text": [
      "[train] rows: 102314\n",
      "[train] empty output: 0\n",
      "[train] empty input : 0\n",
      "[train] empty instr : 0\n",
      "[val] rows: 500\n",
      "[val] empty output: 0\n",
      "[val] empty input : 0\n",
      "[val] empty instr : 0\n"
     ]
    }
   ],
   "source": [
    "def basic_checks(df, name=\"df\"):\n",
    "    missing_output = (df[\"output\"].astype(str).str.strip() == \"\").sum()\n",
    "    missing_input  = (df[\"input\"].astype(str).str.strip() == \"\").sum()\n",
    "    missing_instr  = (df[\"instruction\"].astype(str).str.strip() == \"\").sum()\n",
    "    print(f\"[{name}] rows: {len(df)}\")\n",
    "    print(f\"[{name}] empty output: {missing_output}\")\n",
    "    print(f\"[{name}] empty input : {missing_input}\")\n",
    "    print(f\"[{name}] empty instr : {missing_instr}\")\n",
    "\n",
    "basic_checks(train_df, \"train\")\n",
    "basic_checks(val_df,   \"val\")"
   ]
  },
  {
   "cell_type": "markdown",
   "id": "68ebc483",
   "metadata": {},
   "source": [
    "## Length stats and simple histogram"
   ]
  },
  {
   "cell_type": "code",
   "execution_count": 7,
   "id": "dc6d802f",
   "metadata": {},
   "outputs": [
    {
     "name": "stdout",
     "output_type": "stream",
     "text": [
      "        output_chars   output_lines\n",
      "count  102314.000000  102314.000000\n",
      "mean       68.896417       2.294867\n",
      "std        94.021791       2.637764\n",
      "min         1.000000       1.000000\n",
      "25%        25.000000       1.000000\n",
      "50%        42.000000       1.000000\n",
      "75%        75.000000       2.000000\n",
      "max      5730.000000      83.000000\n"
     ]
    },
    {
     "data": {
      "image/png": "[encoded data removed]",
      "text/plain": [
       "<Figure size 640x480 with 1 Axes>"
      ]
     },
     "metadata": {},
     "output_type": "display_data"
    }
   ],
   "source": [
    "def add_length_stats(df):\n",
    "    df = df.copy()\n",
    "    df[\"output_chars\"] = df[\"output\"].astype(str).str.len()\n",
    "    df[\"output_lines\"] = df[\"output\"].astype(str).str.count(r\"\\n\") + 1\n",
    "    return df\n",
    "\n",
    "train_stats = add_length_stats(train_df)\n",
    "print(train_stats[[\"output_chars\",\"output_lines\"]].describe())\n",
    "\n",
    "plt.figure()\n",
    "train_stats[\"output_chars\"].clip(upper=train_stats[\"output_chars\"].quantile(0.99)).hist(bins=50)\n",
    "plt.title(\"Output length (characters) — train (clipped at 99th pct)\")\n",
    "plt.xlabel(\"chars\")\n",
    "plt.ylabel(\"count\")\n",
    "plt.show()"
   ]
  }
 ],
 "metadata": {
  "kernelspec": {
   "display_name": "tf-gpu",
   "language": "python",
   "name": "python3"
  },
  "language_info": {
   "codemirror_mode": {
    "name": "ipython",
    "version": 3
   },
   "file_extension": ".py",
   "mimetype": "text/x-python",
   "name": "python",
   "nbconvert_exporter": "python",
   "pygments_lexer": "ipython3",
   "version": "3.9.23"
  }
 },
 "nbformat": 4,
 "nbformat_minor": 5
}
